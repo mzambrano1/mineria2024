{
 "cells": [
  {
   "cell_type": "markdown",
   "metadata": {},
   "source": [
    "# Turial: Introducción a Python"
   ]
  },
  {
   "cell_type": "markdown",
   "metadata": {},
   "source": [
    "## Herramientas"
   ]
  },
  {
   "cell_type": "markdown",
   "metadata": {},
   "source": [
    "### Anaconda\n",
    "Una forma fácil de tener un ambiente de Python **local** con las bibliotecas más comunes es instalando *Anaconda*. Para esto:\n",
    "\n",
    "- Descarga en el siguiente link la última versión de Python: https://www.python.org/downloads/\n",
    "- Descarga en el siguiente link la última versión de Anaconda: https://www.anaconda.com/distribution/\n",
    "- Puedes probar tu instalación ejecutando `python` en un terminal `Anaconda Prompt` y verificar que diga algo como `Python 3.7.6 |Anaconda 4.9.0` al principio. Opcionalmente, si quieres ejecutar las herramientas de anaconda desde la terminal del sistema, asegúrate de dejar en el PATH el directorio `bin` de anaconda (Guía en windows, *Add Anaconda to Path (Optional)* https://www.datacamp.com/community/tutorials/installing-anaconda-windows).\n",
    "\n",
    "**Instalación de Bibliotecas:**\n",
    "Anaconda facilita mucho la instalación de las bibliotecas que usaremos en este laboratorio. Instalar las bibliotecas (`scikit-learn`, `jupyter`) desde cero puede ser un poco complicado. Por lo tanto, instalar Anaconda es altamente recomendado para estas sesiones de laboratorio.\n",
    "\n",
    "1. Abrir aplicación Anaconda prompt.\n",
    "2. Ejecutar comando: conda install *biblioteca*\n",
    "\n",
    "Para este tutorial instalar las bibliotecas: *numpy*, *scikit-learn*, *pandas*, *matplotlib*, *seaborn*"
   ]
  },
  {
   "cell_type": "markdown",
   "metadata": {},
   "source": [
    "### Jupyter\n",
    "\n",
    "**Jupyter notebook** (viene con anaconda) es una aplicación web que permite crear documentos con código Python, similar a los R Notebooks o R Markdown. Para este tutorial y los laboratorios 2.1 y 2.2 usaremos un **notebook** donde deberán completar sus respuestas en el mismo archivo.\n",
    "\n",
    "Para cargar y editar un archivo.ipynb deben abrir la terminal y ejecutar `jupyter notebook`. Esto abrirá el navegador donde pueden buscar el archivo .ipynb dentro del directorio. TIP: con Shift-Enter pueden ejecutar cada bloque del notebook.\n",
    "\n",
    "\n",
    "El archivo en formato **HTML** se puede descargar ejecutando el siguiente comando desde la consola de anaconda:\n",
    "\n",
    "`jupyter nbconvert nombre_archivo.ipynb --to html`\n",
    "\n",
    "Otra opción más sencilla es descargarlo desde el mismo notebook, haciendo clic en:\n",
    "*File -> Download as-> HTML (.html)*"
   ]
  },
  {
   "cell_type": "markdown",
   "metadata": {},
   "source": [
    "## Google Colab\n",
    "\n",
    "Aunque usaremos un notebook local (porque es importante que se familiaricen con anaconda), deben conocer <a href=\"https://colab.research.google.com/notebooks/welcome.ipynb?hl=es_US\">Colaboratory</a>, también llamado \"Colab\", que esencialmente es un jupyter notebook con las siguientes ventajas:\n",
    "- No requiere configuración\n",
    "- Da acceso gratuito a GPUs\n",
    "- Permite compartir contenido fácilmente"
   ]
  },
  {
   "cell_type": "markdown",
   "metadata": {},
   "source": [
    "## Data Frames\n",
    "Un data frame es una tabla, con filas y columnas. Cada columna debe tener nombre mientras que las filas pueden tener nombre, pero no es recomendable."
   ]
  },
  {
   "cell_type": "markdown",
   "metadata": {},
   "source": [
    "### Introducción a Pandas"
   ]
  },
  {
   "cell_type": "markdown",
   "metadata": {},
   "source": [
    "Pandas es una herramienta de manipulación y análisis de datos de código abierto rápida, potente, flexible y fácil de usar [<https://pandas.pydata.org/>]. Este paquete de Python proporciona estructuras de datos similares a los dataframes de R (tablas con filas de observaciones y columnas de variables).\n",
    "\n",
    "Pandas proporciona mecanismos eficientes para trabajar con diferentes formatos de datos como archivos CSV (del inglés comma-separated values), archivos de Excel o bases de datos.\n",
    "\n",
    "Las dos estructuras de datos principales de Pandas son: **Series** (Matriz unidimensional etiquetada de forma homogénea) y **DataFrame** (Estructura de datos bidimensional con columnas que pueden contener diferentes tipos de datos). Podríamos pensar en las estructuras de datos de Pandas como contenedores flexibles para datos de dimensiones inferiores. Por ejemplo, DataFrame es un contenedor para Series y Series es un contenedor para escalares [<https://pandas.pydata.org/pandas-docs/stable/getting_started/overview.html>]."
   ]
  },
  {
   "cell_type": "code",
   "execution_count": 2,
   "metadata": {},
   "outputs": [
    {
     "name": "stdout",
     "output_type": "stream",
     "text": [
      "    x  y  voltaje\n",
      "0  10  a        1\n",
      "1  20  b        1\n",
      "2  30  c        1\n"
     ]
    }
   ],
   "source": [
    "import pandas as pd\n",
    "\n",
    "# Definimos un DataFrame con dos columnas, 'x' e 'y', y una columna adicional 'voltaje'\n",
    "data = {'x': [10, 20, 30], 'y': ['a', 'b', 'c'], 'voltaje': [1, 1, 1]}\n",
    "df = pd.DataFrame(data)\n",
    "\n",
    "# Mostramos todo el DataFrame, observa cómo se crean los encabezados.\n",
    "print(df)\n"
   ]
  },
  {
   "cell_type": "code",
   "execution_count": null,
   "metadata": {},
   "outputs": [],
   "source": [
    "# Muestra solo la columna 'x'.\n",
    "df['x']"
   ]
  },
  {
   "cell_type": "code",
   "execution_count": null,
   "metadata": {},
   "outputs": [],
   "source": [
    "# Para mostrar sólo la columna y.\n",
    "df['y']"
   ]
  },
  {
   "cell_type": "code",
   "execution_count": 3,
   "metadata": {},
   "outputs": [
    {
     "data": {
      "text/plain": [
       "(3, 3)"
      ]
     },
     "execution_count": 3,
     "metadata": {},
     "output_type": "execute_result"
    }
   ],
   "source": [
    "# Para indicar el número de filas y columnas de d\n",
    "df.shape"
   ]
  },
  {
   "cell_type": "code",
   "execution_count": 4,
   "metadata": {},
   "outputs": [
    {
     "name": "stdout",
     "output_type": "stream",
     "text": [
      "3\n",
      "3\n"
     ]
    }
   ],
   "source": [
    "# Para indicar el número de filas de d.\n",
    "# Utilizando la función shape\n",
    "num_filas = df.shape[0]\n",
    "print(num_filas)\n",
    "\n",
    "# Utilizando la función len\n",
    "num_filas = len(df)\n",
    "print(num_filas)\n"
   ]
  },
  {
   "cell_type": "code",
   "execution_count": 5,
   "metadata": {},
   "outputs": [
    {
     "name": "stdout",
     "output_type": "stream",
     "text": [
      "3\n",
      "3\n"
     ]
    }
   ],
   "source": [
    "# Para indicar el número de columnas de d.\n",
    "\n",
    "# Utilizando la función shape\n",
    "num_columnas = df.shape[1]\n",
    "print(num_columnas)\n",
    "\n",
    "# Utilizando la función len junto con columns\n",
    "num_columnas = len(df.columns)\n",
    "print(num_columnas)\n"
   ]
  },
  {
   "cell_type": "markdown",
   "metadata": {},
   "source": [
    "## Ejemplo: Datos de Accidentes de Tránsito en Chile\n",
    "\n",
    "Usaremos los datos de accidentes de tránsito en Chile en los años 2010 y 2011.\n",
    "\n",
    "Puedes descargar los datos al computador de las siguientes direcciones:\n",
    "\n",
    "<https://users.dcc.uchile.cl/~hsarmien/mineria/datasets/accidentes_2010_2011.txt>\n",
    "<https://users.dcc.uchile.cl/~hsarmien/mineria/datasets/afectados_2010_2011.txt>\n",
    "\n"
   ]
  },
  {
   "cell_type": "markdown",
   "metadata": {},
   "source": [
    "Puedes descargarlos o cargarlos remotamente.\n",
    "\n",
    "Si los descargas:"
   ]
  },
  {
   "cell_type": "code",
   "execution_count": null,
   "metadata": {},
   "outputs": [],
   "source": [
    "\n",
    "# Lee el archivo 'accidentes_2010_2011.txt' en un DataFrame llamado 'tipos'\n",
    "tipos = pd.read_table(\"accidentes_2010_2011.txt\")\n",
    "\n",
    "# Lee el archivo 'afectados_2010_2011.txt' en un DataFrame llamado 'afectados'\n",
    "afectados = pd.read_table(\"afectados_2010_2011.txt\")\n"
   ]
  },
  {
   "cell_type": "markdown",
   "metadata": {},
   "source": [
    "Para cargar los datos remotamente:"
   ]
  },
  {
   "cell_type": "code",
   "execution_count": 8,
   "metadata": {},
   "outputs": [],
   "source": [
    "\n",
    "# Lee el archivo 'accidentes_2010_2011.txt' en un DataFrame llamado 'tipos'\n",
    "tipos = pd.read_table(\"https://users.dcc.uchile.cl/~hsarmien/mineria/datasets/accidentes_2010_2011.txt\", sep = ' ')\n",
    "\n",
    "# Lee el archivo 'afectados_2010_2011.txt' en un DataFrame llamado 'afectados'\n",
    "afectados = pd.read_table(\"https://users.dcc.uchile.cl/~hsarmien/mineria/datasets/afectados_2010_2011.txt\", sep=' ')\n"
   ]
  },
  {
   "cell_type": "markdown",
   "metadata": {},
   "source": [
    "Esta última opción es conveniente porque son archivos pequeños.\n",
    "\n",
    "Siempre que llegue a sus manos un dataset, lo primero es hacer una revisión inicial para entender cómo están estructurados los datos. Esto significa, entender cuántos datos son, cuántas columnas, qué describe cada columna, el tipo de datos de las columnas, normalización de datos, entre otras cosas.\n",
    "\n",
    "En nuestro caso, el dataset tipos contiene la frecuencia de los distintos tipos de accidentes ocurridos en el 2010 y 2011, en Chile. Por otro lado, el dataset afectados contiene el estado de gravedad en que terminaron los accidente en Chile. Desde luego que ambos datasets se complementan.\n"
   ]
  },
  {
   "cell_type": "markdown",
   "metadata": {},
   "source": [
    "### Atributos de un dataset"
   ]
  },
  {
   "cell_type": "code",
   "execution_count": 11,
   "metadata": {},
   "outputs": [
    {
     "name": "stdout",
     "output_type": "stream",
     "text": [
      "<class 'pandas.core.frame.DataFrame'>\n",
      "Index: 4296 entries, 1 to 4296\n",
      "Data columns (total 5 columns):\n",
      " #   Column         Non-Null Count  Dtype \n",
      "---  ------         --------------  ----- \n",
      " 0   Muestra        4296 non-null   object\n",
      " 1   Descripcion    4296 non-null   object\n",
      " 2   Anio           4296 non-null   int64 \n",
      " 3   TipoAccidente  4296 non-null   object\n",
      " 4   Cantidad       4296 non-null   int64 \n",
      "dtypes: int64(2), object(3)\n",
      "memory usage: 201.4+ KB\n"
     ]
    }
   ],
   "source": [
    "tipos.info()"
   ]
  },
  {
   "cell_type": "markdown",
   "metadata": {},
   "source": [
    "Acá se muestra einformación sobre el DataFrame, incluyendo el nombre de las columnas, el número de entradas no nulas y los tipos de datos de cada columna. \n",
    "\n",
    "Ahora, lo mismo para afectados:"
   ]
  },
  {
   "cell_type": "code",
   "execution_count": 13,
   "metadata": {},
   "outputs": [
    {
     "name": "stdout",
     "output_type": "stream",
     "text": [
      "<class 'pandas.core.frame.DataFrame'>\n",
      "Index: 2864 entries, 1 to 2864\n",
      "Data columns (total 5 columns):\n",
      " #   Column       Non-Null Count  Dtype \n",
      "---  ------       --------------  ----- \n",
      " 0   Muestra      2864 non-null   object\n",
      " 1   Descripcion  2864 non-null   object\n",
      " 2   Anio         2864 non-null   int64 \n",
      " 3   Estado       2864 non-null   object\n",
      " 4   Cantidad     2864 non-null   int64 \n",
      "dtypes: int64(2), object(3)\n",
      "memory usage: 134.2+ KB\n"
     ]
    }
   ],
   "source": [
    "afectados.info()"
   ]
  },
  {
   "cell_type": "markdown",
   "metadata": {},
   "source": [
    "### Función head\n",
    "\n",
    "Con la función head podemos hacernos una idea de cómo son los datos, nos muestra los primeros 5 datos del dataset con los encabezados de cada atributo. Esto es útil para ver si los datos quedaron bien cargados o no (mejor mostrar unos pocos a mostrar todo el dataset completo). "
   ]
  },
  {
   "cell_type": "code",
   "execution_count": 14,
   "metadata": {},
   "outputs": [
    {
     "data": {
      "text/html": [
       "<div>\n",
       "<style scoped>\n",
       "    .dataframe tbody tr th:only-of-type {\n",
       "        vertical-align: middle;\n",
       "    }\n",
       "\n",
       "    .dataframe tbody tr th {\n",
       "        vertical-align: top;\n",
       "    }\n",
       "\n",
       "    .dataframe thead th {\n",
       "        text-align: right;\n",
       "    }\n",
       "</style>\n",
       "<table border=\"1\" class=\"dataframe\">\n",
       "  <thead>\n",
       "    <tr style=\"text-align: right;\">\n",
       "      <th></th>\n",
       "      <th>Muestra</th>\n",
       "      <th>Descripcion</th>\n",
       "      <th>Anio</th>\n",
       "      <th>TipoAccidente</th>\n",
       "      <th>Cantidad</th>\n",
       "    </tr>\n",
       "  </thead>\n",
       "  <tbody>\n",
       "    <tr>\n",
       "      <th>1</th>\n",
       "      <td>Nacional</td>\n",
       "      <td>Nacional</td>\n",
       "      <td>2010</td>\n",
       "      <td>Atropello</td>\n",
       "      <td>8247</td>\n",
       "    </tr>\n",
       "    <tr>\n",
       "      <th>2</th>\n",
       "      <td>Nacional</td>\n",
       "      <td>Nacional</td>\n",
       "      <td>2011</td>\n",
       "      <td>Atropello</td>\n",
       "      <td>8339</td>\n",
       "    </tr>\n",
       "    <tr>\n",
       "      <th>3</th>\n",
       "      <td>Regional</td>\n",
       "      <td>XV Región Arica y Parinacota</td>\n",
       "      <td>2010</td>\n",
       "      <td>Atropello</td>\n",
       "      <td>115</td>\n",
       "    </tr>\n",
       "    <tr>\n",
       "      <th>4</th>\n",
       "      <td>Regional</td>\n",
       "      <td>XV Región Arica y Parinacota</td>\n",
       "      <td>2011</td>\n",
       "      <td>Atropello</td>\n",
       "      <td>159</td>\n",
       "    </tr>\n",
       "    <tr>\n",
       "      <th>5</th>\n",
       "      <td>Comunal</td>\n",
       "      <td>ARICA</td>\n",
       "      <td>2010</td>\n",
       "      <td>Atropello</td>\n",
       "      <td>115</td>\n",
       "    </tr>\n",
       "  </tbody>\n",
       "</table>\n",
       "</div>"
      ],
      "text/plain": [
       "    Muestra                   Descripcion  Anio TipoAccidente  Cantidad\n",
       "1  Nacional                      Nacional  2010     Atropello      8247\n",
       "2  Nacional                      Nacional  2011     Atropello      8339\n",
       "3  Regional  XV Región Arica y Parinacota  2010     Atropello       115\n",
       "4  Regional  XV Región Arica y Parinacota  2011     Atropello       159\n",
       "5   Comunal                         ARICA  2010     Atropello       115"
      ]
     },
     "execution_count": 14,
     "metadata": {},
     "output_type": "execute_result"
    }
   ],
   "source": [
    "tipos.head()"
   ]
  },
  {
   "cell_type": "markdown",
   "metadata": {},
   "source": [
    "### Función describe\n",
    "La función describe aplica estadísticas a cada columna. En particular, indica el promedio, mediana, quantiles, valor máximo, mínimo, entre otros."
   ]
  },
  {
   "cell_type": "code",
   "execution_count": 17,
   "metadata": {},
   "outputs": [
    {
     "data": {
      "text/html": [
       "<div>\n",
       "<style scoped>\n",
       "    .dataframe tbody tr th:only-of-type {\n",
       "        vertical-align: middle;\n",
       "    }\n",
       "\n",
       "    .dataframe tbody tr th {\n",
       "        vertical-align: top;\n",
       "    }\n",
       "\n",
       "    .dataframe thead th {\n",
       "        text-align: right;\n",
       "    }\n",
       "</style>\n",
       "<table border=\"1\" class=\"dataframe\">\n",
       "  <thead>\n",
       "    <tr style=\"text-align: right;\">\n",
       "      <th></th>\n",
       "      <th>Muestra</th>\n",
       "      <th>Descripcion</th>\n",
       "      <th>Anio</th>\n",
       "      <th>TipoAccidente</th>\n",
       "      <th>Cantidad</th>\n",
       "    </tr>\n",
       "  </thead>\n",
       "  <tbody>\n",
       "    <tr>\n",
       "      <th>count</th>\n",
       "      <td>4296</td>\n",
       "      <td>4296</td>\n",
       "      <td>4296.000000</td>\n",
       "      <td>4296</td>\n",
       "      <td>4296.000000</td>\n",
       "    </tr>\n",
       "    <tr>\n",
       "      <th>unique</th>\n",
       "      <td>3</td>\n",
       "      <td>359</td>\n",
       "      <td>NaN</td>\n",
       "      <td>6</td>\n",
       "      <td>NaN</td>\n",
       "    </tr>\n",
       "    <tr>\n",
       "      <th>top</th>\n",
       "      <td>Comunal</td>\n",
       "      <td>Nacional</td>\n",
       "      <td>NaN</td>\n",
       "      <td>Atropello</td>\n",
       "      <td>NaN</td>\n",
       "    </tr>\n",
       "    <tr>\n",
       "      <th>freq</th>\n",
       "      <td>4104</td>\n",
       "      <td>12</td>\n",
       "      <td>NaN</td>\n",
       "      <td>716</td>\n",
       "      <td>NaN</td>\n",
       "    </tr>\n",
       "    <tr>\n",
       "      <th>mean</th>\n",
       "      <td>NaN</td>\n",
       "      <td>NaN</td>\n",
       "      <td>2010.500000</td>\n",
       "      <td>NaN</td>\n",
       "      <td>84.203911</td>\n",
       "    </tr>\n",
       "    <tr>\n",
       "      <th>std</th>\n",
       "      <td>NaN</td>\n",
       "      <td>NaN</td>\n",
       "      <td>0.500058</td>\n",
       "      <td>NaN</td>\n",
       "      <td>835.751218</td>\n",
       "    </tr>\n",
       "    <tr>\n",
       "      <th>min</th>\n",
       "      <td>NaN</td>\n",
       "      <td>NaN</td>\n",
       "      <td>2010.000000</td>\n",
       "      <td>NaN</td>\n",
       "      <td>0.000000</td>\n",
       "    </tr>\n",
       "    <tr>\n",
       "      <th>25%</th>\n",
       "      <td>NaN</td>\n",
       "      <td>NaN</td>\n",
       "      <td>2010.000000</td>\n",
       "      <td>NaN</td>\n",
       "      <td>1.000000</td>\n",
       "    </tr>\n",
       "    <tr>\n",
       "      <th>50%</th>\n",
       "      <td>NaN</td>\n",
       "      <td>NaN</td>\n",
       "      <td>2010.500000</td>\n",
       "      <td>NaN</td>\n",
       "      <td>5.000000</td>\n",
       "    </tr>\n",
       "    <tr>\n",
       "      <th>75%</th>\n",
       "      <td>NaN</td>\n",
       "      <td>NaN</td>\n",
       "      <td>2011.000000</td>\n",
       "      <td>NaN</td>\n",
       "      <td>20.000000</td>\n",
       "    </tr>\n",
       "    <tr>\n",
       "      <th>max</th>\n",
       "      <td>NaN</td>\n",
       "      <td>NaN</td>\n",
       "      <td>2011.000000</td>\n",
       "      <td>NaN</td>\n",
       "      <td>31487.000000</td>\n",
       "    </tr>\n",
       "  </tbody>\n",
       "</table>\n",
       "</div>"
      ],
      "text/plain": [
       "        Muestra Descripcion         Anio TipoAccidente      Cantidad\n",
       "count      4296        4296  4296.000000          4296   4296.000000\n",
       "unique        3         359          NaN             6           NaN\n",
       "top     Comunal    Nacional          NaN     Atropello           NaN\n",
       "freq       4104          12          NaN           716           NaN\n",
       "mean        NaN         NaN  2010.500000           NaN     84.203911\n",
       "std         NaN         NaN     0.500058           NaN    835.751218\n",
       "min         NaN         NaN  2010.000000           NaN      0.000000\n",
       "25%         NaN         NaN  2010.000000           NaN      1.000000\n",
       "50%         NaN         NaN  2010.500000           NaN      5.000000\n",
       "75%         NaN         NaN  2011.000000           NaN     20.000000\n",
       "max         NaN         NaN  2011.000000           NaN  31487.000000"
      ]
     },
     "execution_count": 17,
     "metadata": {},
     "output_type": "execute_result"
    }
   ],
   "source": [
    "tipos.describe(include='all')"
   ]
  },
  {
   "cell_type": "code",
   "execution_count": 19,
   "metadata": {},
   "outputs": [
    {
     "data": {
      "text/html": [
       "<div>\n",
       "<style scoped>\n",
       "    .dataframe tbody tr th:only-of-type {\n",
       "        vertical-align: middle;\n",
       "    }\n",
       "\n",
       "    .dataframe tbody tr th {\n",
       "        vertical-align: top;\n",
       "    }\n",
       "\n",
       "    .dataframe thead th {\n",
       "        text-align: right;\n",
       "    }\n",
       "</style>\n",
       "<table border=\"1\" class=\"dataframe\">\n",
       "  <thead>\n",
       "    <tr style=\"text-align: right;\">\n",
       "      <th></th>\n",
       "      <th>Muestra</th>\n",
       "      <th>Descripcion</th>\n",
       "      <th>Anio</th>\n",
       "      <th>Estado</th>\n",
       "      <th>Cantidad</th>\n",
       "    </tr>\n",
       "  </thead>\n",
       "  <tbody>\n",
       "    <tr>\n",
       "      <th>count</th>\n",
       "      <td>2864</td>\n",
       "      <td>2864</td>\n",
       "      <td>2864.000000</td>\n",
       "      <td>2864</td>\n",
       "      <td>2864.000000</td>\n",
       "    </tr>\n",
       "    <tr>\n",
       "      <th>unique</th>\n",
       "      <td>3</td>\n",
       "      <td>358</td>\n",
       "      <td>NaN</td>\n",
       "      <td>4</td>\n",
       "      <td>NaN</td>\n",
       "    </tr>\n",
       "    <tr>\n",
       "      <th>top</th>\n",
       "      <td>Comunal</td>\n",
       "      <td>Nacional</td>\n",
       "      <td>NaN</td>\n",
       "      <td>Muertos</td>\n",
       "      <td>NaN</td>\n",
       "    </tr>\n",
       "    <tr>\n",
       "      <th>freq</th>\n",
       "      <td>2736</td>\n",
       "      <td>8</td>\n",
       "      <td>NaN</td>\n",
       "      <td>716</td>\n",
       "      <td>NaN</td>\n",
       "    </tr>\n",
       "    <tr>\n",
       "      <th>mean</th>\n",
       "      <td>NaN</td>\n",
       "      <td>NaN</td>\n",
       "      <td>2010.500000</td>\n",
       "      <td>NaN</td>\n",
       "      <td>115.583799</td>\n",
       "    </tr>\n",
       "    <tr>\n",
       "      <th>std</th>\n",
       "      <td>NaN</td>\n",
       "      <td>NaN</td>\n",
       "      <td>0.500087</td>\n",
       "      <td>NaN</td>\n",
       "      <td>1220.347115</td>\n",
       "    </tr>\n",
       "    <tr>\n",
       "      <th>min</th>\n",
       "      <td>NaN</td>\n",
       "      <td>NaN</td>\n",
       "      <td>2010.000000</td>\n",
       "      <td>NaN</td>\n",
       "      <td>0.000000</td>\n",
       "    </tr>\n",
       "    <tr>\n",
       "      <th>25%</th>\n",
       "      <td>NaN</td>\n",
       "      <td>NaN</td>\n",
       "      <td>2010.000000</td>\n",
       "      <td>NaN</td>\n",
       "      <td>3.000000</td>\n",
       "    </tr>\n",
       "    <tr>\n",
       "      <th>50%</th>\n",
       "      <td>NaN</td>\n",
       "      <td>NaN</td>\n",
       "      <td>2010.500000</td>\n",
       "      <td>NaN</td>\n",
       "      <td>9.000000</td>\n",
       "    </tr>\n",
       "    <tr>\n",
       "      <th>75%</th>\n",
       "      <td>NaN</td>\n",
       "      <td>NaN</td>\n",
       "      <td>2011.000000</td>\n",
       "      <td>NaN</td>\n",
       "      <td>32.000000</td>\n",
       "    </tr>\n",
       "    <tr>\n",
       "      <th>max</th>\n",
       "      <td>NaN</td>\n",
       "      <td>NaN</td>\n",
       "      <td>2011.000000</td>\n",
       "      <td>NaN</td>\n",
       "      <td>43034.000000</td>\n",
       "    </tr>\n",
       "  </tbody>\n",
       "</table>\n",
       "</div>"
      ],
      "text/plain": [
       "        Muestra Descripcion         Anio   Estado      Cantidad\n",
       "count      2864        2864  2864.000000     2864   2864.000000\n",
       "unique        3         358          NaN        4           NaN\n",
       "top     Comunal    Nacional          NaN  Muertos           NaN\n",
       "freq       2736           8          NaN      716           NaN\n",
       "mean        NaN         NaN  2010.500000      NaN    115.583799\n",
       "std         NaN         NaN     0.500087      NaN   1220.347115\n",
       "min         NaN         NaN  2010.000000      NaN      0.000000\n",
       "25%         NaN         NaN  2010.000000      NaN      3.000000\n",
       "50%         NaN         NaN  2010.500000      NaN      9.000000\n",
       "75%         NaN         NaN  2011.000000      NaN     32.000000\n",
       "max         NaN         NaN  2011.000000      NaN  43034.000000"
      ]
     },
     "execution_count": 19,
     "metadata": {},
     "output_type": "execute_result"
    }
   ],
   "source": [
    "afectados.describe(include='all')"
   ]
  },
  {
   "cell_type": "markdown",
   "metadata": {},
   "source": [
    "Aunque también podemos hacer el muestreo por separado empleando las siguientes funciones:"
   ]
  },
  {
   "cell_type": "code",
   "execution_count": 20,
   "metadata": {},
   "outputs": [
    {
     "data": {
      "text/plain": [
       "84.20391061452514"
      ]
     },
     "execution_count": 20,
     "metadata": {},
     "output_type": "execute_result"
    }
   ],
   "source": [
    "tipos['Cantidad'].mean()"
   ]
  },
  {
   "cell_type": "code",
   "execution_count": 21,
   "metadata": {},
   "outputs": [
    {
     "data": {
      "text/plain": [
       "835.751217553672"
      ]
     },
     "execution_count": 21,
     "metadata": {},
     "output_type": "execute_result"
    }
   ],
   "source": [
    "# desviacion estandar\n",
    "tipos['Cantidad'].std()"
   ]
  },
  {
   "cell_type": "code",
   "execution_count": 22,
   "metadata": {},
   "outputs": [
    {
     "data": {
      "text/plain": [
       "0"
      ]
     },
     "execution_count": 22,
     "metadata": {},
     "output_type": "execute_result"
    }
   ],
   "source": [
    "# minimo (maximo)\n",
    "tipos['Cantidad'].min()"
   ]
  },
  {
   "cell_type": "code",
   "execution_count": 23,
   "metadata": {},
   "outputs": [
    {
     "data": {
      "text/plain": [
       "5.0"
      ]
     },
     "execution_count": 23,
     "metadata": {},
     "output_type": "execute_result"
    }
   ],
   "source": [
    "# mediana\n",
    "tipos['Cantidad'].median()"
   ]
  },
  {
   "cell_type": "code",
   "execution_count": 29,
   "metadata": {},
   "outputs": [
    {
     "data": {
      "text/plain": [
       "0.00        0.0\n",
       "0.25        1.0\n",
       "0.50        5.0\n",
       "0.75       20.0\n",
       "1.00    31487.0\n",
       "Name: Cantidad, dtype: float64"
      ]
     },
     "execution_count": 29,
     "metadata": {},
     "output_type": "execute_result"
    }
   ],
   "source": [
    "# cuantiles, los valores que son mayores que una fracción $q$ de los datos\n",
    "tipos['Cantidad'].quantile([0,0.25, 0.5, 0.75, 1])"
   ]
  },
  {
   "cell_type": "code",
   "execution_count": 35,
   "metadata": {},
   "outputs": [
    {
     "data": {
      "text/plain": [
       "19.0"
      ]
     },
     "execution_count": 35,
     "metadata": {},
     "output_type": "execute_result"
    }
   ],
   "source": [
    "# diferencia entre cuartil 3 y cuartil 1  (Q3 - Q1), o cuantil 0.75 y cuantil 0.25\n",
    "\n",
    "q1,q3 = tipos['Cantidad'].quantile([0.25,0.75]) \n",
    "q3-q1"
   ]
  },
  {
   "cell_type": "markdown",
   "metadata": {},
   "source": [
    "### Consultas sobre data frames (proyección y filtro)\n",
    "\n",
    "Para proyectar o seleccionar columnas de una tabla, usamos el nombre de la columna entre  [ ]. (Siempre emplearemos head para no alargar este manual)."
   ]
  },
  {
   "cell_type": "code",
   "execution_count": 36,
   "metadata": {},
   "outputs": [
    {
     "data": {
      "text/plain": [
       "1    8247\n",
       "2    8339\n",
       "3     115\n",
       "4     159\n",
       "5     115\n",
       "Name: Cantidad, dtype: int64"
      ]
     },
     "execution_count": 36,
     "metadata": {},
     "output_type": "execute_result"
    }
   ],
   "source": [
    "# muestra sólo la columna Cantidad\n",
    "# note que el resultado de esta operación es un Vector\n",
    "\n",
    "tipos['Cantidad'].head()"
   ]
  },
  {
   "cell_type": "code",
   "execution_count": 39,
   "metadata": {},
   "outputs": [
    {
     "data": {
      "text/html": [
       "<div>\n",
       "<style scoped>\n",
       "    .dataframe tbody tr th:only-of-type {\n",
       "        vertical-align: middle;\n",
       "    }\n",
       "\n",
       "    .dataframe tbody tr th {\n",
       "        vertical-align: top;\n",
       "    }\n",
       "\n",
       "    .dataframe thead th {\n",
       "        text-align: right;\n",
       "    }\n",
       "</style>\n",
       "<table border=\"1\" class=\"dataframe\">\n",
       "  <thead>\n",
       "    <tr style=\"text-align: right;\">\n",
       "      <th></th>\n",
       "      <th>Cantidad</th>\n",
       "      <th>TipoAccidente</th>\n",
       "    </tr>\n",
       "  </thead>\n",
       "  <tbody>\n",
       "    <tr>\n",
       "      <th>1</th>\n",
       "      <td>8247</td>\n",
       "      <td>Atropello</td>\n",
       "    </tr>\n",
       "    <tr>\n",
       "      <th>2</th>\n",
       "      <td>8339</td>\n",
       "      <td>Atropello</td>\n",
       "    </tr>\n",
       "    <tr>\n",
       "      <th>3</th>\n",
       "      <td>115</td>\n",
       "      <td>Atropello</td>\n",
       "    </tr>\n",
       "    <tr>\n",
       "      <th>4</th>\n",
       "      <td>159</td>\n",
       "      <td>Atropello</td>\n",
       "    </tr>\n",
       "    <tr>\n",
       "      <th>5</th>\n",
       "      <td>115</td>\n",
       "      <td>Atropello</td>\n",
       "    </tr>\n",
       "    <tr>\n",
       "      <th>...</th>\n",
       "      <td>...</td>\n",
       "      <td>...</td>\n",
       "    </tr>\n",
       "    <tr>\n",
       "      <th>4292</th>\n",
       "      <td>2</td>\n",
       "      <td>Otros</td>\n",
       "    </tr>\n",
       "    <tr>\n",
       "      <th>4293</th>\n",
       "      <td>1</td>\n",
       "      <td>Otros</td>\n",
       "    </tr>\n",
       "    <tr>\n",
       "      <th>4294</th>\n",
       "      <td>2</td>\n",
       "      <td>Otros</td>\n",
       "    </tr>\n",
       "    <tr>\n",
       "      <th>4295</th>\n",
       "      <td>5</td>\n",
       "      <td>Otros</td>\n",
       "    </tr>\n",
       "    <tr>\n",
       "      <th>4296</th>\n",
       "      <td>14</td>\n",
       "      <td>Otros</td>\n",
       "    </tr>\n",
       "  </tbody>\n",
       "</table>\n",
       "<p>4296 rows × 2 columns</p>\n",
       "</div>"
      ],
      "text/plain": [
       "      Cantidad TipoAccidente\n",
       "1         8247     Atropello\n",
       "2         8339     Atropello\n",
       "3          115     Atropello\n",
       "4          159     Atropello\n",
       "5          115     Atropello\n",
       "...        ...           ...\n",
       "4292         2         Otros\n",
       "4293         1         Otros\n",
       "4294         2         Otros\n",
       "4295         5         Otros\n",
       "4296        14         Otros\n",
       "\n",
       "[4296 rows x 2 columns]"
      ]
     },
     "execution_count": 39,
     "metadata": {},
     "output_type": "execute_result"
    }
   ],
   "source": [
    "# se puede seleccionar más de una columna\n",
    "\n",
    "tipos[['Cantidad','TipoAccidente']]"
   ]
  },
  {
   "cell_type": "markdown",
   "metadata": {},
   "source": [
    "Ahora, para filtrar filas, usamos la notación [columnas][filas]."
   ]
  },
  {
   "cell_type": "code",
   "execution_count": 41,
   "metadata": {},
   "outputs": [
    {
     "data": {
      "text/plain": [
       "115"
      ]
     },
     "execution_count": 41,
     "metadata": {},
     "output_type": "execute_result"
    }
   ],
   "source": [
    "# fila 3, columna 5\n",
    "tipos['Cantidad'][5]"
   ]
  },
  {
   "cell_type": "code",
   "execution_count": 42,
   "metadata": {},
   "outputs": [
    {
     "data": {
      "text/plain": [
       "Muestra                              Regional\n",
       "Descripcion      XV Región Arica y Parinacota\n",
       "Anio                                     2010\n",
       "TipoAccidente                       Atropello\n",
       "Cantidad                                  115\n",
       "Name: 3, dtype: object"
      ]
     },
     "execution_count": 42,
     "metadata": {},
     "output_type": "execute_result"
    }
   ],
   "source": [
    "# Selecciona la fila 3 completa\n",
    "# La función iloc se utiliza para seleccionar filas por índice. El índice 2 corresponde a la tercera fila\n",
    "tipos.iloc[2, :]"
   ]
  },
  {
   "cell_type": "code",
   "execution_count": 43,
   "metadata": {},
   "outputs": [
    {
     "data": {
      "text/html": [
       "<div>\n",
       "<style scoped>\n",
       "    .dataframe tbody tr th:only-of-type {\n",
       "        vertical-align: middle;\n",
       "    }\n",
       "\n",
       "    .dataframe tbody tr th {\n",
       "        vertical-align: top;\n",
       "    }\n",
       "\n",
       "    .dataframe thead th {\n",
       "        text-align: right;\n",
       "    }\n",
       "</style>\n",
       "<table border=\"1\" class=\"dataframe\">\n",
       "  <thead>\n",
       "    <tr style=\"text-align: right;\">\n",
       "      <th></th>\n",
       "      <th>Anio</th>\n",
       "      <th>TipoAccidente</th>\n",
       "    </tr>\n",
       "  </thead>\n",
       "  <tbody>\n",
       "    <tr>\n",
       "      <th>1</th>\n",
       "      <td>2010</td>\n",
       "      <td>Atropello</td>\n",
       "    </tr>\n",
       "    <tr>\n",
       "      <th>2</th>\n",
       "      <td>2011</td>\n",
       "      <td>Atropello</td>\n",
       "    </tr>\n",
       "    <tr>\n",
       "      <th>3</th>\n",
       "      <td>2010</td>\n",
       "      <td>Atropello</td>\n",
       "    </tr>\n",
       "    <tr>\n",
       "      <th>4</th>\n",
       "      <td>2011</td>\n",
       "      <td>Atropello</td>\n",
       "    </tr>\n",
       "    <tr>\n",
       "      <th>5</th>\n",
       "      <td>2010</td>\n",
       "      <td>Atropello</td>\n",
       "    </tr>\n",
       "    <tr>\n",
       "      <th>6</th>\n",
       "      <td>2011</td>\n",
       "      <td>Atropello</td>\n",
       "    </tr>\n",
       "  </tbody>\n",
       "</table>\n",
       "</div>"
      ],
      "text/plain": [
       "   Anio TipoAccidente\n",
       "1  2010     Atropello\n",
       "2  2011     Atropello\n",
       "3  2010     Atropello\n",
       "4  2011     Atropello\n",
       "5  2010     Atropello\n",
       "6  2011     Atropello"
      ]
     },
     "execution_count": 43,
     "metadata": {},
     "output_type": "execute_result"
    }
   ],
   "source": [
    "# Muestra los primeros 6 datos y las columnas seleccionadas\n",
    "tipos[['Anio','TipoAccidente']][:6]"
   ]
  },
  {
   "cell_type": "markdown",
   "metadata": {},
   "source": [
    "Desde luego que podemos crear condiciones o filtros"
   ]
  },
  {
   "cell_type": "code",
   "execution_count": 46,
   "metadata": {},
   "outputs": [
    {
     "data": {
      "text/plain": [
       "1        True\n",
       "2       False\n",
       "3        True\n",
       "4       False\n",
       "5        True\n",
       "        ...  \n",
       "2860    False\n",
       "2861     True\n",
       "2862    False\n",
       "2863     True\n",
       "2864    False\n",
       "Name: Anio, Length: 2864, dtype: bool"
      ]
     },
     "execution_count": 46,
     "metadata": {},
     "output_type": "execute_result"
    }
   ],
   "source": [
    "# Para cada valor de la columna Anio, indica si es 2010 o no (mediante True y False)\n",
    "afectados[\"Anio\"] == 2010"
   ]
  },
  {
   "cell_type": "code",
   "execution_count": 47,
   "metadata": {},
   "outputs": [
    {
     "data": {
      "text/html": [
       "<div>\n",
       "<style scoped>\n",
       "    .dataframe tbody tr th:only-of-type {\n",
       "        vertical-align: middle;\n",
       "    }\n",
       "\n",
       "    .dataframe tbody tr th {\n",
       "        vertical-align: top;\n",
       "    }\n",
       "\n",
       "    .dataframe thead th {\n",
       "        text-align: right;\n",
       "    }\n",
       "</style>\n",
       "<table border=\"1\" class=\"dataframe\">\n",
       "  <thead>\n",
       "    <tr style=\"text-align: right;\">\n",
       "      <th></th>\n",
       "      <th>Muestra</th>\n",
       "      <th>Descripcion</th>\n",
       "      <th>Anio</th>\n",
       "      <th>Estado</th>\n",
       "      <th>Cantidad</th>\n",
       "    </tr>\n",
       "  </thead>\n",
       "  <tbody>\n",
       "    <tr>\n",
       "      <th>1</th>\n",
       "      <td>Nacional</td>\n",
       "      <td>Nacional</td>\n",
       "      <td>2010</td>\n",
       "      <td>Muertos</td>\n",
       "      <td>1595</td>\n",
       "    </tr>\n",
       "    <tr>\n",
       "      <th>3</th>\n",
       "      <td>Regional</td>\n",
       "      <td>XV Región Arica y Parinacota</td>\n",
       "      <td>2010</td>\n",
       "      <td>Muertos</td>\n",
       "      <td>28</td>\n",
       "    </tr>\n",
       "    <tr>\n",
       "      <th>5</th>\n",
       "      <td>Comunal</td>\n",
       "      <td>ARICA</td>\n",
       "      <td>2010</td>\n",
       "      <td>Muertos</td>\n",
       "      <td>24</td>\n",
       "    </tr>\n",
       "    <tr>\n",
       "      <th>7</th>\n",
       "      <td>Comunal</td>\n",
       "      <td>CAMARONES</td>\n",
       "      <td>2010</td>\n",
       "      <td>Muertos</td>\n",
       "      <td>2</td>\n",
       "    </tr>\n",
       "    <tr>\n",
       "      <th>9</th>\n",
       "      <td>Comunal</td>\n",
       "      <td>PUTRE</td>\n",
       "      <td>2010</td>\n",
       "      <td>Muertos</td>\n",
       "      <td>2</td>\n",
       "    </tr>\n",
       "    <tr>\n",
       "      <th>...</th>\n",
       "      <td>...</td>\n",
       "      <td>...</td>\n",
       "      <td>...</td>\n",
       "      <td>...</td>\n",
       "      <td>...</td>\n",
       "    </tr>\n",
       "    <tr>\n",
       "      <th>2855</th>\n",
       "      <td>Comunal</td>\n",
       "      <td>TALAGANTE</td>\n",
       "      <td>2010</td>\n",
       "      <td>Leves</td>\n",
       "      <td>279</td>\n",
       "    </tr>\n",
       "    <tr>\n",
       "      <th>2857</th>\n",
       "      <td>Comunal</td>\n",
       "      <td>EL MONTE</td>\n",
       "      <td>2010</td>\n",
       "      <td>Leves</td>\n",
       "      <td>86</td>\n",
       "    </tr>\n",
       "    <tr>\n",
       "      <th>2859</th>\n",
       "      <td>Comunal</td>\n",
       "      <td>ISLA DE MAIPO</td>\n",
       "      <td>2010</td>\n",
       "      <td>Leves</td>\n",
       "      <td>112</td>\n",
       "    </tr>\n",
       "    <tr>\n",
       "      <th>2861</th>\n",
       "      <td>Comunal</td>\n",
       "      <td>PADRE HURTADO</td>\n",
       "      <td>2010</td>\n",
       "      <td>Leves</td>\n",
       "      <td>98</td>\n",
       "    </tr>\n",
       "    <tr>\n",
       "      <th>2863</th>\n",
       "      <td>Comunal</td>\n",
       "      <td>PENAFLOR</td>\n",
       "      <td>2010</td>\n",
       "      <td>Leves</td>\n",
       "      <td>249</td>\n",
       "    </tr>\n",
       "  </tbody>\n",
       "</table>\n",
       "<p>1432 rows × 5 columns</p>\n",
       "</div>"
      ],
      "text/plain": [
       "       Muestra                   Descripcion  Anio   Estado  Cantidad\n",
       "1     Nacional                      Nacional  2010  Muertos      1595\n",
       "3     Regional  XV Región Arica y Parinacota  2010  Muertos        28\n",
       "5      Comunal                         ARICA  2010  Muertos        24\n",
       "7      Comunal                     CAMARONES  2010  Muertos         2\n",
       "9      Comunal                         PUTRE  2010  Muertos         2\n",
       "...        ...                           ...   ...      ...       ...\n",
       "2855   Comunal                     TALAGANTE  2010    Leves       279\n",
       "2857   Comunal                      EL MONTE  2010    Leves        86\n",
       "2859   Comunal                 ISLA DE MAIPO  2010    Leves       112\n",
       "2861   Comunal                 PADRE HURTADO  2010    Leves        98\n",
       "2863   Comunal                      PENAFLOR  2010    Leves       249\n",
       "\n",
       "[1432 rows x 5 columns]"
      ]
     },
     "execution_count": 47,
     "metadata": {},
     "output_type": "execute_result"
    }
   ],
   "source": [
    "#ahora con el resultado anterior, selecciona solo las filas que son True en un nuevo dataframe\n",
    "afectados[afectados[\"Anio\"] == 2010] "
   ]
  },
  {
   "cell_type": "code",
   "execution_count": 48,
   "metadata": {},
   "outputs": [
    {
     "data": {
      "text/plain": [
       "Muestra        1432\n",
       "Descripcion    1432\n",
       "Anio           1432\n",
       "Estado         1432\n",
       "Cantidad       1432\n",
       "dtype: int64"
      ]
     },
     "execution_count": 48,
     "metadata": {},
     "output_type": "execute_result"
    }
   ],
   "source": [
    "# podemos contar los datos de accidentes del 2010 \n",
    "afectados[afectados[\"Anio\"] == 2010].count()"
   ]
  },
  {
   "cell_type": "markdown",
   "metadata": {},
   "source": [
    "Una función util para contar cuantos valores son NA en una columna, es la siguiente:"
   ]
  },
  {
   "cell_type": "code",
   "execution_count": 49,
   "metadata": {},
   "outputs": [
    {
     "data": {
      "text/plain": [
       "0"
      ]
     },
     "execution_count": 49,
     "metadata": {},
     "output_type": "execute_result"
    }
   ],
   "source": [
    "afectados['Anio'].isna().sum()"
   ]
  },
  {
   "cell_type": "markdown",
   "metadata": {},
   "source": [
    "Para topas las columnas:"
   ]
  },
  {
   "cell_type": "code",
   "execution_count": 50,
   "metadata": {},
   "outputs": [
    {
     "data": {
      "text/plain": [
       "Muestra        0\n",
       "Descripcion    0\n",
       "Anio           0\n",
       "Estado         0\n",
       "Cantidad       0\n",
       "dtype: int64"
      ]
     },
     "execution_count": 50,
     "metadata": {},
     "output_type": "execute_result"
    }
   ],
   "source": [
    "afectados.isna().sum()"
   ]
  },
  {
   "cell_type": "markdown",
   "metadata": {},
   "source": [
    "Por ejemplo que muestre sólo los datos del 2011:"
   ]
  },
  {
   "cell_type": "code",
   "execution_count": 51,
   "metadata": {},
   "outputs": [
    {
     "data": {
      "text/html": [
       "<div>\n",
       "<style scoped>\n",
       "    .dataframe tbody tr th:only-of-type {\n",
       "        vertical-align: middle;\n",
       "    }\n",
       "\n",
       "    .dataframe tbody tr th {\n",
       "        vertical-align: top;\n",
       "    }\n",
       "\n",
       "    .dataframe thead th {\n",
       "        text-align: right;\n",
       "    }\n",
       "</style>\n",
       "<table border=\"1\" class=\"dataframe\">\n",
       "  <thead>\n",
       "    <tr style=\"text-align: right;\">\n",
       "      <th></th>\n",
       "      <th>Muestra</th>\n",
       "      <th>Descripcion</th>\n",
       "      <th>Anio</th>\n",
       "      <th>Estado</th>\n",
       "      <th>Cantidad</th>\n",
       "    </tr>\n",
       "  </thead>\n",
       "  <tbody>\n",
       "    <tr>\n",
       "      <th>2</th>\n",
       "      <td>Nacional</td>\n",
       "      <td>Nacional</td>\n",
       "      <td>2011</td>\n",
       "      <td>Muertos</td>\n",
       "      <td>1573</td>\n",
       "    </tr>\n",
       "    <tr>\n",
       "      <th>4</th>\n",
       "      <td>Regional</td>\n",
       "      <td>XV Región Arica y Parinacota</td>\n",
       "      <td>2011</td>\n",
       "      <td>Muertos</td>\n",
       "      <td>33</td>\n",
       "    </tr>\n",
       "    <tr>\n",
       "      <th>6</th>\n",
       "      <td>Comunal</td>\n",
       "      <td>ARICA</td>\n",
       "      <td>2011</td>\n",
       "      <td>Muertos</td>\n",
       "      <td>29</td>\n",
       "    </tr>\n",
       "    <tr>\n",
       "      <th>8</th>\n",
       "      <td>Comunal</td>\n",
       "      <td>CAMARONES</td>\n",
       "      <td>2011</td>\n",
       "      <td>Muertos</td>\n",
       "      <td>2</td>\n",
       "    </tr>\n",
       "    <tr>\n",
       "      <th>10</th>\n",
       "      <td>Comunal</td>\n",
       "      <td>PUTRE</td>\n",
       "      <td>2011</td>\n",
       "      <td>Muertos</td>\n",
       "      <td>2</td>\n",
       "    </tr>\n",
       "  </tbody>\n",
       "</table>\n",
       "</div>"
      ],
      "text/plain": [
       "     Muestra                   Descripcion  Anio   Estado  Cantidad\n",
       "2   Nacional                      Nacional  2011  Muertos      1573\n",
       "4   Regional  XV Región Arica y Parinacota  2011  Muertos        33\n",
       "6    Comunal                         ARICA  2011  Muertos        29\n",
       "8    Comunal                     CAMARONES  2011  Muertos         2\n",
       "10   Comunal                         PUTRE  2011  Muertos         2"
      ]
     },
     "execution_count": 51,
     "metadata": {},
     "output_type": "execute_result"
    }
   ],
   "source": [
    "# Filtra los datos cuyo año es 2011 y muestra todas las columnas (notar que ahora no muestra TRUE/FALSE)\n",
    "afectados[afectados[\"Anio\"] == 2011].head()"
   ]
  },
  {
   "cell_type": "code",
   "execution_count": 52,
   "metadata": {},
   "outputs": [
    {
     "data": {
      "text/html": [
       "<div>\n",
       "<style scoped>\n",
       "    .dataframe tbody tr th:only-of-type {\n",
       "        vertical-align: middle;\n",
       "    }\n",
       "\n",
       "    .dataframe tbody tr th {\n",
       "        vertical-align: top;\n",
       "    }\n",
       "\n",
       "    .dataframe thead th {\n",
       "        text-align: right;\n",
       "    }\n",
       "</style>\n",
       "<table border=\"1\" class=\"dataframe\">\n",
       "  <thead>\n",
       "    <tr style=\"text-align: right;\">\n",
       "      <th></th>\n",
       "      <th>Muestra</th>\n",
       "      <th>Descripcion</th>\n",
       "      <th>Anio</th>\n",
       "      <th>Estado</th>\n",
       "      <th>Cantidad</th>\n",
       "    </tr>\n",
       "  </thead>\n",
       "  <tbody>\n",
       "    <tr>\n",
       "      <th>4</th>\n",
       "      <td>Regional</td>\n",
       "      <td>XV Región Arica y Parinacota</td>\n",
       "      <td>2011</td>\n",
       "      <td>Muertos</td>\n",
       "      <td>33</td>\n",
       "    </tr>\n",
       "    <tr>\n",
       "      <th>14</th>\n",
       "      <td>Regional</td>\n",
       "      <td>I Región de Tarapacá</td>\n",
       "      <td>2011</td>\n",
       "      <td>Muertos</td>\n",
       "      <td>56</td>\n",
       "    </tr>\n",
       "    <tr>\n",
       "      <th>30</th>\n",
       "      <td>Regional</td>\n",
       "      <td>II Región de Antofagasta</td>\n",
       "      <td>2011</td>\n",
       "      <td>Muertos</td>\n",
       "      <td>87</td>\n",
       "    </tr>\n",
       "    <tr>\n",
       "      <th>50</th>\n",
       "      <td>Regional</td>\n",
       "      <td>III Región de Atacama</td>\n",
       "      <td>2011</td>\n",
       "      <td>Muertos</td>\n",
       "      <td>53</td>\n",
       "    </tr>\n",
       "    <tr>\n",
       "      <th>70</th>\n",
       "      <td>Regional</td>\n",
       "      <td>IV Región de Coquimbo</td>\n",
       "      <td>2011</td>\n",
       "      <td>Muertos</td>\n",
       "      <td>73</td>\n",
       "    </tr>\n",
       "  </tbody>\n",
       "</table>\n",
       "</div>"
      ],
      "text/plain": [
       "     Muestra                   Descripcion  Anio   Estado  Cantidad\n",
       "4   Regional  XV Región Arica y Parinacota  2011  Muertos        33\n",
       "14  Regional          I Región de Tarapacá  2011  Muertos        56\n",
       "30  Regional      II Región de Antofagasta  2011  Muertos        87\n",
       "50  Regional         III Región de Atacama  2011  Muertos        53\n",
       "70  Regional         IV Región de Coquimbo  2011  Muertos        73"
      ]
     },
     "execution_count": 52,
     "metadata": {},
     "output_type": "execute_result"
    }
   ],
   "source": [
    "# Filtramos que la columna Anio sea 2011 y además que la columna Muestra sea Regional. Se muestran todas las columnas. \n",
    "afectados[(afectados[\"Anio\"] == 2011) & (afectados[\"Muestra\"] == \"Regional\")].head()"
   ]
  },
  {
   "cell_type": "code",
   "execution_count": 53,
   "metadata": {},
   "outputs": [
    {
     "data": {
      "text/html": [
       "<div>\n",
       "<style scoped>\n",
       "    .dataframe tbody tr th:only-of-type {\n",
       "        vertical-align: middle;\n",
       "    }\n",
       "\n",
       "    .dataframe tbody tr th {\n",
       "        vertical-align: top;\n",
       "    }\n",
       "\n",
       "    .dataframe thead th {\n",
       "        text-align: right;\n",
       "    }\n",
       "</style>\n",
       "<table border=\"1\" class=\"dataframe\">\n",
       "  <thead>\n",
       "    <tr style=\"text-align: right;\">\n",
       "      <th></th>\n",
       "      <th>Descripcion</th>\n",
       "      <th>Cantidad</th>\n",
       "    </tr>\n",
       "  </thead>\n",
       "  <tbody>\n",
       "    <tr>\n",
       "      <th>4</th>\n",
       "      <td>XV Región Arica y Parinacota</td>\n",
       "      <td>33</td>\n",
       "    </tr>\n",
       "    <tr>\n",
       "      <th>14</th>\n",
       "      <td>I Región de Tarapacá</td>\n",
       "      <td>56</td>\n",
       "    </tr>\n",
       "    <tr>\n",
       "      <th>30</th>\n",
       "      <td>II Región de Antofagasta</td>\n",
       "      <td>87</td>\n",
       "    </tr>\n",
       "    <tr>\n",
       "      <th>50</th>\n",
       "      <td>III Región de Atacama</td>\n",
       "      <td>53</td>\n",
       "    </tr>\n",
       "    <tr>\n",
       "      <th>70</th>\n",
       "      <td>IV Región de Coquimbo</td>\n",
       "      <td>73</td>\n",
       "    </tr>\n",
       "  </tbody>\n",
       "</table>\n",
       "</div>"
      ],
      "text/plain": [
       "                     Descripcion  Cantidad\n",
       "4   XV Región Arica y Parinacota        33\n",
       "14          I Región de Tarapacá        56\n",
       "30      II Región de Antofagasta        87\n",
       "50         III Región de Atacama        53\n",
       "70         IV Región de Coquimbo        73"
      ]
     },
     "execution_count": 53,
     "metadata": {},
     "output_type": "execute_result"
    }
   ],
   "source": [
    "# Filtramos que la columna Anio sea 2011 y además que la columna Muestra sea Regional. Seleccionamos la Descripcion y la Cantidad\n",
    "afectados[(afectados[\"Anio\"] == 2011) & (afectados[\"Muestra\"] == \"Regional\")][[\"Descripcion\", \"Cantidad\"]].head()"
   ]
  },
  {
   "cell_type": "markdown",
   "metadata": {},
   "source": [
    "### Operaciones sobre dataframe"
   ]
  },
  {
   "cell_type": "markdown",
   "metadata": {},
   "source": [
    "#### Aggregate\n",
    "Para saber cuántos muertos por accidentes hubo en todo Chile podemos emplear aggregate. Esto es similar a GROUP BY en SQL."
   ]
  },
  {
   "cell_type": "code",
   "execution_count": 57,
   "metadata": {},
   "outputs": [
    {
     "data": {
      "text/html": [
       "<div>\n",
       "<style scoped>\n",
       "    .dataframe tbody tr th:only-of-type {\n",
       "        vertical-align: middle;\n",
       "    }\n",
       "\n",
       "    .dataframe tbody tr th {\n",
       "        vertical-align: top;\n",
       "    }\n",
       "\n",
       "    .dataframe thead th {\n",
       "        text-align: right;\n",
       "    }\n",
       "</style>\n",
       "<table border=\"1\" class=\"dataframe\">\n",
       "  <thead>\n",
       "    <tr style=\"text-align: right;\">\n",
       "      <th></th>\n",
       "      <th>Estado</th>\n",
       "      <th>Cantidad</th>\n",
       "    </tr>\n",
       "  </thead>\n",
       "  <tbody>\n",
       "    <tr>\n",
       "      <th>0</th>\n",
       "      <td>Graves</td>\n",
       "      <td>40869</td>\n",
       "    </tr>\n",
       "    <tr>\n",
       "      <th>1</th>\n",
       "      <td>Leves</td>\n",
       "      <td>254334</td>\n",
       "    </tr>\n",
       "    <tr>\n",
       "      <th>2</th>\n",
       "      <td>MenosGraves</td>\n",
       "      <td>26325</td>\n",
       "    </tr>\n",
       "    <tr>\n",
       "      <th>3</th>\n",
       "      <td>Muertos</td>\n",
       "      <td>9504</td>\n",
       "    </tr>\n",
       "  </tbody>\n",
       "</table>\n",
       "</div>"
      ],
      "text/plain": [
       "        Estado  Cantidad\n",
       "0       Graves     40869\n",
       "1        Leves    254334\n",
       "2  MenosGraves     26325\n",
       "3      Muertos      9504"
      ]
     },
     "execution_count": 57,
     "metadata": {},
     "output_type": "execute_result"
    }
   ],
   "source": [
    "# Aplica la función suma (sum) a la columna Cantidad en base a los datos de Estado\n",
    "afectados.groupby('Estado')['Cantidad'].sum().reset_index()"
   ]
  },
  {
   "cell_type": "markdown",
   "metadata": {},
   "source": [
    "Esta función hará grupos dentro de afectados, donde cada grupo estará asociado al mismo valor de Estado, y estará compuesto de todos los valores dados por Cantidad. A cada uno de estos grupos aplicará la función FUN, que en este caso es sum. Es decir, entregará la suma de las cantidades agrupadas por cada estado.\n",
    "\n",
    "También podríamos ser más especificos y sumar la columna cantidad agrupando por Estado y Anio."
   ]
  },
  {
   "cell_type": "code",
   "execution_count": 58,
   "metadata": {},
   "outputs": [
    {
     "data": {
      "text/html": [
       "<div>\n",
       "<style scoped>\n",
       "    .dataframe tbody tr th:only-of-type {\n",
       "        vertical-align: middle;\n",
       "    }\n",
       "\n",
       "    .dataframe tbody tr th {\n",
       "        vertical-align: top;\n",
       "    }\n",
       "\n",
       "    .dataframe thead th {\n",
       "        text-align: right;\n",
       "    }\n",
       "</style>\n",
       "<table border=\"1\" class=\"dataframe\">\n",
       "  <thead>\n",
       "    <tr style=\"text-align: right;\">\n",
       "      <th></th>\n",
       "      <th>Estado</th>\n",
       "      <th>Anio</th>\n",
       "      <th>Cantidad</th>\n",
       "    </tr>\n",
       "  </thead>\n",
       "  <tbody>\n",
       "    <tr>\n",
       "      <th>0</th>\n",
       "      <td>Graves</td>\n",
       "      <td>2010</td>\n",
       "      <td>20697</td>\n",
       "    </tr>\n",
       "    <tr>\n",
       "      <th>1</th>\n",
       "      <td>Graves</td>\n",
       "      <td>2011</td>\n",
       "      <td>20172</td>\n",
       "    </tr>\n",
       "    <tr>\n",
       "      <th>2</th>\n",
       "      <td>Leves</td>\n",
       "      <td>2010</td>\n",
       "      <td>125232</td>\n",
       "    </tr>\n",
       "    <tr>\n",
       "      <th>3</th>\n",
       "      <td>Leves</td>\n",
       "      <td>2011</td>\n",
       "      <td>129102</td>\n",
       "    </tr>\n",
       "    <tr>\n",
       "      <th>4</th>\n",
       "      <td>MenosGraves</td>\n",
       "      <td>2010</td>\n",
       "      <td>12963</td>\n",
       "    </tr>\n",
       "    <tr>\n",
       "      <th>5</th>\n",
       "      <td>MenosGraves</td>\n",
       "      <td>2011</td>\n",
       "      <td>13362</td>\n",
       "    </tr>\n",
       "    <tr>\n",
       "      <th>6</th>\n",
       "      <td>Muertos</td>\n",
       "      <td>2010</td>\n",
       "      <td>4785</td>\n",
       "    </tr>\n",
       "    <tr>\n",
       "      <th>7</th>\n",
       "      <td>Muertos</td>\n",
       "      <td>2011</td>\n",
       "      <td>4719</td>\n",
       "    </tr>\n",
       "  </tbody>\n",
       "</table>\n",
       "</div>"
      ],
      "text/plain": [
       "        Estado  Anio  Cantidad\n",
       "0       Graves  2010     20697\n",
       "1       Graves  2011     20172\n",
       "2        Leves  2010    125232\n",
       "3        Leves  2011    129102\n",
       "4  MenosGraves  2010     12963\n",
       "5  MenosGraves  2011     13362\n",
       "6      Muertos  2010      4785\n",
       "7      Muertos  2011      4719"
      ]
     },
     "execution_count": 58,
     "metadata": {},
     "output_type": "execute_result"
    }
   ],
   "source": [
    "afectados.groupby(['Estado', 'Anio'])['Cantidad'].sum().reset_index()"
   ]
  },
  {
   "cell_type": "markdown",
   "metadata": {},
   "source": [
    "#### Unique\n",
    "Con unique podemos obtener el conjunto de datos (sin repetir) de una columna."
   ]
  },
  {
   "cell_type": "code",
   "execution_count": 59,
   "metadata": {},
   "outputs": [
    {
     "data": {
      "text/plain": [
       "array(['Atropello', 'Caida', 'Colision', 'Choque', 'Volcadura', 'Otros'],\n",
       "      dtype=object)"
      ]
     },
     "execution_count": 59,
     "metadata": {},
     "output_type": "execute_result"
    }
   ],
   "source": [
    "tipos['TipoAccidente'].unique()"
   ]
  },
  {
   "cell_type": "markdown",
   "metadata": {},
   "source": [
    "#### Sort\n",
    "En algún momento vamos a requerir ordenar las columnas en base a uno o más atributos. Por ejemplo:"
   ]
  },
  {
   "cell_type": "code",
   "execution_count": 60,
   "metadata": {},
   "outputs": [
    {
     "data": {
      "text/html": [
       "<div>\n",
       "<style scoped>\n",
       "    .dataframe tbody tr th:only-of-type {\n",
       "        vertical-align: middle;\n",
       "    }\n",
       "\n",
       "    .dataframe tbody tr th {\n",
       "        vertical-align: top;\n",
       "    }\n",
       "\n",
       "    .dataframe thead th {\n",
       "        text-align: right;\n",
       "    }\n",
       "</style>\n",
       "<table border=\"1\" class=\"dataframe\">\n",
       "  <thead>\n",
       "    <tr style=\"text-align: right;\">\n",
       "      <th></th>\n",
       "      <th>Muestra</th>\n",
       "      <th>Descripcion</th>\n",
       "      <th>Anio</th>\n",
       "      <th>Estado</th>\n",
       "      <th>Cantidad</th>\n",
       "    </tr>\n",
       "  </thead>\n",
       "  <tbody>\n",
       "    <tr>\n",
       "      <th>7</th>\n",
       "      <td>Comunal</td>\n",
       "      <td>CAMARONES</td>\n",
       "      <td>2010</td>\n",
       "      <td>Muertos</td>\n",
       "      <td>2</td>\n",
       "    </tr>\n",
       "    <tr>\n",
       "      <th>8</th>\n",
       "      <td>Comunal</td>\n",
       "      <td>CAMARONES</td>\n",
       "      <td>2011</td>\n",
       "      <td>Muertos</td>\n",
       "      <td>2</td>\n",
       "    </tr>\n",
       "    <tr>\n",
       "      <th>9</th>\n",
       "      <td>Comunal</td>\n",
       "      <td>PUTRE</td>\n",
       "      <td>2010</td>\n",
       "      <td>Muertos</td>\n",
       "      <td>2</td>\n",
       "    </tr>\n",
       "    <tr>\n",
       "      <th>10</th>\n",
       "      <td>Comunal</td>\n",
       "      <td>PUTRE</td>\n",
       "      <td>2011</td>\n",
       "      <td>Muertos</td>\n",
       "      <td>2</td>\n",
       "    </tr>\n",
       "    <tr>\n",
       "      <th>5</th>\n",
       "      <td>Comunal</td>\n",
       "      <td>ARICA</td>\n",
       "      <td>2010</td>\n",
       "      <td>Muertos</td>\n",
       "      <td>24</td>\n",
       "    </tr>\n",
       "    <tr>\n",
       "      <th>3</th>\n",
       "      <td>Regional</td>\n",
       "      <td>XV Región Arica y Parinacota</td>\n",
       "      <td>2010</td>\n",
       "      <td>Muertos</td>\n",
       "      <td>28</td>\n",
       "    </tr>\n",
       "    <tr>\n",
       "      <th>6</th>\n",
       "      <td>Comunal</td>\n",
       "      <td>ARICA</td>\n",
       "      <td>2011</td>\n",
       "      <td>Muertos</td>\n",
       "      <td>29</td>\n",
       "    </tr>\n",
       "    <tr>\n",
       "      <th>4</th>\n",
       "      <td>Regional</td>\n",
       "      <td>XV Región Arica y Parinacota</td>\n",
       "      <td>2011</td>\n",
       "      <td>Muertos</td>\n",
       "      <td>33</td>\n",
       "    </tr>\n",
       "    <tr>\n",
       "      <th>2</th>\n",
       "      <td>Nacional</td>\n",
       "      <td>Nacional</td>\n",
       "      <td>2011</td>\n",
       "      <td>Muertos</td>\n",
       "      <td>1573</td>\n",
       "    </tr>\n",
       "    <tr>\n",
       "      <th>1</th>\n",
       "      <td>Nacional</td>\n",
       "      <td>Nacional</td>\n",
       "      <td>2010</td>\n",
       "      <td>Muertos</td>\n",
       "      <td>1595</td>\n",
       "    </tr>\n",
       "  </tbody>\n",
       "</table>\n",
       "</div>"
      ],
      "text/plain": [
       "     Muestra                   Descripcion  Anio   Estado  Cantidad\n",
       "7    Comunal                     CAMARONES  2010  Muertos         2\n",
       "8    Comunal                     CAMARONES  2011  Muertos         2\n",
       "9    Comunal                         PUTRE  2010  Muertos         2\n",
       "10   Comunal                         PUTRE  2011  Muertos         2\n",
       "5    Comunal                         ARICA  2010  Muertos        24\n",
       "3   Regional  XV Región Arica y Parinacota  2010  Muertos        28\n",
       "6    Comunal                         ARICA  2011  Muertos        29\n",
       "4   Regional  XV Región Arica y Parinacota  2011  Muertos        33\n",
       "2   Nacional                      Nacional  2011  Muertos      1573\n",
       "1   Nacional                      Nacional  2010  Muertos      1595"
      ]
     },
     "execution_count": 60,
     "metadata": {},
     "output_type": "execute_result"
    }
   ],
   "source": [
    "# Tomar los primeros 10 datos de afectados\n",
    "afectados_reducido = afectados.head(10)\n",
    "\n",
    "# Ordenar ascendentemente por la columna 'Cantidad'\n",
    "afectados_reducido.sort_values(by='Cantidad')\n"
   ]
  },
  {
   "cell_type": "code",
   "execution_count": 61,
   "metadata": {},
   "outputs": [
    {
     "data": {
      "text/html": [
       "<div>\n",
       "<style scoped>\n",
       "    .dataframe tbody tr th:only-of-type {\n",
       "        vertical-align: middle;\n",
       "    }\n",
       "\n",
       "    .dataframe tbody tr th {\n",
       "        vertical-align: top;\n",
       "    }\n",
       "\n",
       "    .dataframe thead th {\n",
       "        text-align: right;\n",
       "    }\n",
       "</style>\n",
       "<table border=\"1\" class=\"dataframe\">\n",
       "  <thead>\n",
       "    <tr style=\"text-align: right;\">\n",
       "      <th></th>\n",
       "      <th>Muestra</th>\n",
       "      <th>Descripcion</th>\n",
       "      <th>Anio</th>\n",
       "      <th>Estado</th>\n",
       "      <th>Cantidad</th>\n",
       "    </tr>\n",
       "  </thead>\n",
       "  <tbody>\n",
       "    <tr>\n",
       "      <th>1</th>\n",
       "      <td>Nacional</td>\n",
       "      <td>Nacional</td>\n",
       "      <td>2010</td>\n",
       "      <td>Muertos</td>\n",
       "      <td>1595</td>\n",
       "    </tr>\n",
       "    <tr>\n",
       "      <th>2</th>\n",
       "      <td>Nacional</td>\n",
       "      <td>Nacional</td>\n",
       "      <td>2011</td>\n",
       "      <td>Muertos</td>\n",
       "      <td>1573</td>\n",
       "    </tr>\n",
       "    <tr>\n",
       "      <th>4</th>\n",
       "      <td>Regional</td>\n",
       "      <td>XV Región Arica y Parinacota</td>\n",
       "      <td>2011</td>\n",
       "      <td>Muertos</td>\n",
       "      <td>33</td>\n",
       "    </tr>\n",
       "    <tr>\n",
       "      <th>6</th>\n",
       "      <td>Comunal</td>\n",
       "      <td>ARICA</td>\n",
       "      <td>2011</td>\n",
       "      <td>Muertos</td>\n",
       "      <td>29</td>\n",
       "    </tr>\n",
       "    <tr>\n",
       "      <th>3</th>\n",
       "      <td>Regional</td>\n",
       "      <td>XV Región Arica y Parinacota</td>\n",
       "      <td>2010</td>\n",
       "      <td>Muertos</td>\n",
       "      <td>28</td>\n",
       "    </tr>\n",
       "    <tr>\n",
       "      <th>5</th>\n",
       "      <td>Comunal</td>\n",
       "      <td>ARICA</td>\n",
       "      <td>2010</td>\n",
       "      <td>Muertos</td>\n",
       "      <td>24</td>\n",
       "    </tr>\n",
       "    <tr>\n",
       "      <th>7</th>\n",
       "      <td>Comunal</td>\n",
       "      <td>CAMARONES</td>\n",
       "      <td>2010</td>\n",
       "      <td>Muertos</td>\n",
       "      <td>2</td>\n",
       "    </tr>\n",
       "    <tr>\n",
       "      <th>8</th>\n",
       "      <td>Comunal</td>\n",
       "      <td>CAMARONES</td>\n",
       "      <td>2011</td>\n",
       "      <td>Muertos</td>\n",
       "      <td>2</td>\n",
       "    </tr>\n",
       "    <tr>\n",
       "      <th>9</th>\n",
       "      <td>Comunal</td>\n",
       "      <td>PUTRE</td>\n",
       "      <td>2010</td>\n",
       "      <td>Muertos</td>\n",
       "      <td>2</td>\n",
       "    </tr>\n",
       "    <tr>\n",
       "      <th>10</th>\n",
       "      <td>Comunal</td>\n",
       "      <td>PUTRE</td>\n",
       "      <td>2011</td>\n",
       "      <td>Muertos</td>\n",
       "      <td>2</td>\n",
       "    </tr>\n",
       "  </tbody>\n",
       "</table>\n",
       "</div>"
      ],
      "text/plain": [
       "     Muestra                   Descripcion  Anio   Estado  Cantidad\n",
       "1   Nacional                      Nacional  2010  Muertos      1595\n",
       "2   Nacional                      Nacional  2011  Muertos      1573\n",
       "4   Regional  XV Región Arica y Parinacota  2011  Muertos        33\n",
       "6    Comunal                         ARICA  2011  Muertos        29\n",
       "3   Regional  XV Región Arica y Parinacota  2010  Muertos        28\n",
       "5    Comunal                         ARICA  2010  Muertos        24\n",
       "7    Comunal                     CAMARONES  2010  Muertos         2\n",
       "8    Comunal                     CAMARONES  2011  Muertos         2\n",
       "9    Comunal                         PUTRE  2010  Muertos         2\n",
       "10   Comunal                         PUTRE  2011  Muertos         2"
      ]
     },
     "execution_count": 61,
     "metadata": {},
     "output_type": "execute_result"
    }
   ],
   "source": [
    "# Ordenar descendente la columna Cantidad\n",
    "afectados_reducido.sort_values(by='Cantidad', ascending=False)"
   ]
  },
  {
   "cell_type": "markdown",
   "metadata": {},
   "source": [
    "#### Merge\n",
    "al como lo vimos al principio de este documento, para crear un nuevo data frame se usa pd.frame(). Por ejemplo:"
   ]
  },
  {
   "cell_type": "code",
   "execution_count": 63,
   "metadata": {},
   "outputs": [
    {
     "data": {
      "text/html": [
       "<div>\n",
       "<style scoped>\n",
       "    .dataframe tbody tr th:only-of-type {\n",
       "        vertical-align: middle;\n",
       "    }\n",
       "\n",
       "    .dataframe tbody tr th {\n",
       "        vertical-align: top;\n",
       "    }\n",
       "\n",
       "    .dataframe thead th {\n",
       "        text-align: right;\n",
       "    }\n",
       "</style>\n",
       "<table border=\"1\" class=\"dataframe\">\n",
       "  <thead>\n",
       "    <tr style=\"text-align: right;\">\n",
       "      <th></th>\n",
       "      <th>x1</th>\n",
       "      <th>y1</th>\n",
       "    </tr>\n",
       "  </thead>\n",
       "  <tbody>\n",
       "    <tr>\n",
       "      <th>0</th>\n",
       "      <td>0</td>\n",
       "      <td>10</td>\n",
       "    </tr>\n",
       "    <tr>\n",
       "      <th>1</th>\n",
       "      <td>1</td>\n",
       "      <td>20</td>\n",
       "    </tr>\n",
       "    <tr>\n",
       "      <th>2</th>\n",
       "      <td>2</td>\n",
       "      <td>40</td>\n",
       "    </tr>\n",
       "    <tr>\n",
       "      <th>3</th>\n",
       "      <td>3</td>\n",
       "      <td>60</td>\n",
       "    </tr>\n",
       "    <tr>\n",
       "      <th>4</th>\n",
       "      <td>4</td>\n",
       "      <td>80</td>\n",
       "    </tr>\n",
       "    <tr>\n",
       "      <th>5</th>\n",
       "      <td>5</td>\n",
       "      <td>100</td>\n",
       "    </tr>\n",
       "    <tr>\n",
       "      <th>6</th>\n",
       "      <td>6</td>\n",
       "      <td>120</td>\n",
       "    </tr>\n",
       "    <tr>\n",
       "      <th>7</th>\n",
       "      <td>7</td>\n",
       "      <td>140</td>\n",
       "    </tr>\n",
       "    <tr>\n",
       "      <th>8</th>\n",
       "      <td>8</td>\n",
       "      <td>160</td>\n",
       "    </tr>\n",
       "  </tbody>\n",
       "</table>\n",
       "</div>"
      ],
      "text/plain": [
       "   x1   y1\n",
       "0   0   10\n",
       "1   1   20\n",
       "2   2   40\n",
       "3   3   60\n",
       "4   4   80\n",
       "5   5  100\n",
       "6   6  120\n",
       "7   7  140\n",
       "8   8  160"
      ]
     },
     "execution_count": 63,
     "metadata": {},
     "output_type": "execute_result"
    }
   ],
   "source": [
    "\n",
    "# DataFrame 'a'\n",
    "a = pd.DataFrame({'x1': range(9), 'y1': [10, 20, 40, 60, 80, 100, 120, 140, 160]})\n",
    "\n",
    "# DataFrame 'b'\n",
    "b = pd.DataFrame({'x1': [1, 2, 4, 6, 8, 10], 'y2': [0, 3, 5, 7, 9, 11]})\n",
    "\n",
    "a\n"
   ]
  },
  {
   "cell_type": "code",
   "execution_count": 64,
   "metadata": {},
   "outputs": [
    {
     "data": {
      "text/html": [
       "<div>\n",
       "<style scoped>\n",
       "    .dataframe tbody tr th:only-of-type {\n",
       "        vertical-align: middle;\n",
       "    }\n",
       "\n",
       "    .dataframe tbody tr th {\n",
       "        vertical-align: top;\n",
       "    }\n",
       "\n",
       "    .dataframe thead th {\n",
       "        text-align: right;\n",
       "    }\n",
       "</style>\n",
       "<table border=\"1\" class=\"dataframe\">\n",
       "  <thead>\n",
       "    <tr style=\"text-align: right;\">\n",
       "      <th></th>\n",
       "      <th>x1</th>\n",
       "      <th>y2</th>\n",
       "    </tr>\n",
       "  </thead>\n",
       "  <tbody>\n",
       "    <tr>\n",
       "      <th>0</th>\n",
       "      <td>1</td>\n",
       "      <td>0</td>\n",
       "    </tr>\n",
       "    <tr>\n",
       "      <th>1</th>\n",
       "      <td>2</td>\n",
       "      <td>3</td>\n",
       "    </tr>\n",
       "    <tr>\n",
       "      <th>2</th>\n",
       "      <td>4</td>\n",
       "      <td>5</td>\n",
       "    </tr>\n",
       "    <tr>\n",
       "      <th>3</th>\n",
       "      <td>6</td>\n",
       "      <td>7</td>\n",
       "    </tr>\n",
       "    <tr>\n",
       "      <th>4</th>\n",
       "      <td>8</td>\n",
       "      <td>9</td>\n",
       "    </tr>\n",
       "    <tr>\n",
       "      <th>5</th>\n",
       "      <td>10</td>\n",
       "      <td>11</td>\n",
       "    </tr>\n",
       "  </tbody>\n",
       "</table>\n",
       "</div>"
      ],
      "text/plain": [
       "   x1  y2\n",
       "0   1   0\n",
       "1   2   3\n",
       "2   4   5\n",
       "3   6   7\n",
       "4   8   9\n",
       "5  10  11"
      ]
     },
     "execution_count": 64,
     "metadata": {},
     "output_type": "execute_result"
    }
   ],
   "source": [
    "b"
   ]
  },
  {
   "cell_type": "code",
   "execution_count": 65,
   "metadata": {},
   "outputs": [
    {
     "data": {
      "text/html": [
       "<div>\n",
       "<style scoped>\n",
       "    .dataframe tbody tr th:only-of-type {\n",
       "        vertical-align: middle;\n",
       "    }\n",
       "\n",
       "    .dataframe tbody tr th {\n",
       "        vertical-align: top;\n",
       "    }\n",
       "\n",
       "    .dataframe thead th {\n",
       "        text-align: right;\n",
       "    }\n",
       "</style>\n",
       "<table border=\"1\" class=\"dataframe\">\n",
       "  <thead>\n",
       "    <tr style=\"text-align: right;\">\n",
       "      <th></th>\n",
       "      <th>x1</th>\n",
       "      <th>y1</th>\n",
       "      <th>y2</th>\n",
       "    </tr>\n",
       "  </thead>\n",
       "  <tbody>\n",
       "    <tr>\n",
       "      <th>0</th>\n",
       "      <td>1</td>\n",
       "      <td>20</td>\n",
       "      <td>0</td>\n",
       "    </tr>\n",
       "    <tr>\n",
       "      <th>1</th>\n",
       "      <td>2</td>\n",
       "      <td>40</td>\n",
       "      <td>3</td>\n",
       "    </tr>\n",
       "    <tr>\n",
       "      <th>2</th>\n",
       "      <td>4</td>\n",
       "      <td>80</td>\n",
       "      <td>5</td>\n",
       "    </tr>\n",
       "    <tr>\n",
       "      <th>3</th>\n",
       "      <td>6</td>\n",
       "      <td>120</td>\n",
       "      <td>7</td>\n",
       "    </tr>\n",
       "    <tr>\n",
       "      <th>4</th>\n",
       "      <td>8</td>\n",
       "      <td>160</td>\n",
       "      <td>9</td>\n",
       "    </tr>\n",
       "  </tbody>\n",
       "</table>\n",
       "</div>"
      ],
      "text/plain": [
       "   x1   y1  y2\n",
       "0   1   20   0\n",
       "1   2   40   3\n",
       "2   4   80   5\n",
       "3   6  120   7\n",
       "4   8  160   9"
      ]
     },
     "execution_count": 65,
     "metadata": {},
     "output_type": "execute_result"
    }
   ],
   "source": [
    "# Inner join \n",
    "pd.merge(a, b, on='x1')"
   ]
  },
  {
   "cell_type": "code",
   "execution_count": 66,
   "metadata": {},
   "outputs": [
    {
     "data": {
      "text/html": [
       "<div>\n",
       "<style scoped>\n",
       "    .dataframe tbody tr th:only-of-type {\n",
       "        vertical-align: middle;\n",
       "    }\n",
       "\n",
       "    .dataframe tbody tr th {\n",
       "        vertical-align: top;\n",
       "    }\n",
       "\n",
       "    .dataframe thead th {\n",
       "        text-align: right;\n",
       "    }\n",
       "</style>\n",
       "<table border=\"1\" class=\"dataframe\">\n",
       "  <thead>\n",
       "    <tr style=\"text-align: right;\">\n",
       "      <th></th>\n",
       "      <th>x1</th>\n",
       "      <th>y1</th>\n",
       "      <th>y2</th>\n",
       "    </tr>\n",
       "  </thead>\n",
       "  <tbody>\n",
       "    <tr>\n",
       "      <th>0</th>\n",
       "      <td>0</td>\n",
       "      <td>10.0</td>\n",
       "      <td>NaN</td>\n",
       "    </tr>\n",
       "    <tr>\n",
       "      <th>1</th>\n",
       "      <td>1</td>\n",
       "      <td>20.0</td>\n",
       "      <td>0.0</td>\n",
       "    </tr>\n",
       "    <tr>\n",
       "      <th>2</th>\n",
       "      <td>2</td>\n",
       "      <td>40.0</td>\n",
       "      <td>3.0</td>\n",
       "    </tr>\n",
       "    <tr>\n",
       "      <th>3</th>\n",
       "      <td>3</td>\n",
       "      <td>60.0</td>\n",
       "      <td>NaN</td>\n",
       "    </tr>\n",
       "    <tr>\n",
       "      <th>4</th>\n",
       "      <td>4</td>\n",
       "      <td>80.0</td>\n",
       "      <td>5.0</td>\n",
       "    </tr>\n",
       "    <tr>\n",
       "      <th>5</th>\n",
       "      <td>5</td>\n",
       "      <td>100.0</td>\n",
       "      <td>NaN</td>\n",
       "    </tr>\n",
       "    <tr>\n",
       "      <th>6</th>\n",
       "      <td>6</td>\n",
       "      <td>120.0</td>\n",
       "      <td>7.0</td>\n",
       "    </tr>\n",
       "    <tr>\n",
       "      <th>7</th>\n",
       "      <td>7</td>\n",
       "      <td>140.0</td>\n",
       "      <td>NaN</td>\n",
       "    </tr>\n",
       "    <tr>\n",
       "      <th>8</th>\n",
       "      <td>8</td>\n",
       "      <td>160.0</td>\n",
       "      <td>9.0</td>\n",
       "    </tr>\n",
       "    <tr>\n",
       "      <th>9</th>\n",
       "      <td>10</td>\n",
       "      <td>NaN</td>\n",
       "      <td>11.0</td>\n",
       "    </tr>\n",
       "  </tbody>\n",
       "</table>\n",
       "</div>"
      ],
      "text/plain": [
       "   x1     y1    y2\n",
       "0   0   10.0   NaN\n",
       "1   1   20.0   0.0\n",
       "2   2   40.0   3.0\n",
       "3   3   60.0   NaN\n",
       "4   4   80.0   5.0\n",
       "5   5  100.0   NaN\n",
       "6   6  120.0   7.0\n",
       "7   7  140.0   NaN\n",
       "8   8  160.0   9.0\n",
       "9  10    NaN  11.0"
      ]
     },
     "execution_count": 66,
     "metadata": {},
     "output_type": "execute_result"
    }
   ],
   "source": [
    "# Full outer join\n",
    "pd.merge(a, b, on='x1', how='outer')"
   ]
  },
  {
   "cell_type": "code",
   "execution_count": 67,
   "metadata": {},
   "outputs": [
    {
     "data": {
      "text/html": [
       "<div>\n",
       "<style scoped>\n",
       "    .dataframe tbody tr th:only-of-type {\n",
       "        vertical-align: middle;\n",
       "    }\n",
       "\n",
       "    .dataframe tbody tr th {\n",
       "        vertical-align: top;\n",
       "    }\n",
       "\n",
       "    .dataframe thead th {\n",
       "        text-align: right;\n",
       "    }\n",
       "</style>\n",
       "<table border=\"1\" class=\"dataframe\">\n",
       "  <thead>\n",
       "    <tr style=\"text-align: right;\">\n",
       "      <th></th>\n",
       "      <th>x1</th>\n",
       "      <th>y1</th>\n",
       "      <th>y2</th>\n",
       "    </tr>\n",
       "  </thead>\n",
       "  <tbody>\n",
       "    <tr>\n",
       "      <th>0</th>\n",
       "      <td>0</td>\n",
       "      <td>10</td>\n",
       "      <td>NaN</td>\n",
       "    </tr>\n",
       "    <tr>\n",
       "      <th>1</th>\n",
       "      <td>1</td>\n",
       "      <td>20</td>\n",
       "      <td>0.0</td>\n",
       "    </tr>\n",
       "    <tr>\n",
       "      <th>2</th>\n",
       "      <td>2</td>\n",
       "      <td>40</td>\n",
       "      <td>3.0</td>\n",
       "    </tr>\n",
       "    <tr>\n",
       "      <th>3</th>\n",
       "      <td>3</td>\n",
       "      <td>60</td>\n",
       "      <td>NaN</td>\n",
       "    </tr>\n",
       "    <tr>\n",
       "      <th>4</th>\n",
       "      <td>4</td>\n",
       "      <td>80</td>\n",
       "      <td>5.0</td>\n",
       "    </tr>\n",
       "    <tr>\n",
       "      <th>5</th>\n",
       "      <td>5</td>\n",
       "      <td>100</td>\n",
       "      <td>NaN</td>\n",
       "    </tr>\n",
       "    <tr>\n",
       "      <th>6</th>\n",
       "      <td>6</td>\n",
       "      <td>120</td>\n",
       "      <td>7.0</td>\n",
       "    </tr>\n",
       "    <tr>\n",
       "      <th>7</th>\n",
       "      <td>7</td>\n",
       "      <td>140</td>\n",
       "      <td>NaN</td>\n",
       "    </tr>\n",
       "    <tr>\n",
       "      <th>8</th>\n",
       "      <td>8</td>\n",
       "      <td>160</td>\n",
       "      <td>9.0</td>\n",
       "    </tr>\n",
       "  </tbody>\n",
       "</table>\n",
       "</div>"
      ],
      "text/plain": [
       "   x1   y1   y2\n",
       "0   0   10  NaN\n",
       "1   1   20  0.0\n",
       "2   2   40  3.0\n",
       "3   3   60  NaN\n",
       "4   4   80  5.0\n",
       "5   5  100  NaN\n",
       "6   6  120  7.0\n",
       "7   7  140  NaN\n",
       "8   8  160  9.0"
      ]
     },
     "execution_count": 67,
     "metadata": {},
     "output_type": "execute_result"
    }
   ],
   "source": [
    "# Left outer join\n",
    "pd.merge(a, b, on='x1', how='left')"
   ]
  },
  {
   "cell_type": "code",
   "execution_count": 68,
   "metadata": {},
   "outputs": [
    {
     "data": {
      "text/html": [
       "<div>\n",
       "<style scoped>\n",
       "    .dataframe tbody tr th:only-of-type {\n",
       "        vertical-align: middle;\n",
       "    }\n",
       "\n",
       "    .dataframe tbody tr th {\n",
       "        vertical-align: top;\n",
       "    }\n",
       "\n",
       "    .dataframe thead th {\n",
       "        text-align: right;\n",
       "    }\n",
       "</style>\n",
       "<table border=\"1\" class=\"dataframe\">\n",
       "  <thead>\n",
       "    <tr style=\"text-align: right;\">\n",
       "      <th></th>\n",
       "      <th>x1</th>\n",
       "      <th>y1</th>\n",
       "      <th>y2</th>\n",
       "    </tr>\n",
       "  </thead>\n",
       "  <tbody>\n",
       "    <tr>\n",
       "      <th>0</th>\n",
       "      <td>1</td>\n",
       "      <td>20.0</td>\n",
       "      <td>0</td>\n",
       "    </tr>\n",
       "    <tr>\n",
       "      <th>1</th>\n",
       "      <td>2</td>\n",
       "      <td>40.0</td>\n",
       "      <td>3</td>\n",
       "    </tr>\n",
       "    <tr>\n",
       "      <th>2</th>\n",
       "      <td>4</td>\n",
       "      <td>80.0</td>\n",
       "      <td>5</td>\n",
       "    </tr>\n",
       "    <tr>\n",
       "      <th>3</th>\n",
       "      <td>6</td>\n",
       "      <td>120.0</td>\n",
       "      <td>7</td>\n",
       "    </tr>\n",
       "    <tr>\n",
       "      <th>4</th>\n",
       "      <td>8</td>\n",
       "      <td>160.0</td>\n",
       "      <td>9</td>\n",
       "    </tr>\n",
       "    <tr>\n",
       "      <th>5</th>\n",
       "      <td>10</td>\n",
       "      <td>NaN</td>\n",
       "      <td>11</td>\n",
       "    </tr>\n",
       "  </tbody>\n",
       "</table>\n",
       "</div>"
      ],
      "text/plain": [
       "   x1     y1  y2\n",
       "0   1   20.0   0\n",
       "1   2   40.0   3\n",
       "2   4   80.0   5\n",
       "3   6  120.0   7\n",
       "4   8  160.0   9\n",
       "5  10    NaN  11"
      ]
     },
     "execution_count": 68,
     "metadata": {},
     "output_type": "execute_result"
    }
   ],
   "source": [
    "# Right outer join\n",
    "pd.merge(a, b, on='x1', how='right')"
   ]
  },
  {
   "cell_type": "markdown",
   "metadata": {},
   "source": [
    "#### Sumar filas y columnas\n",
    "\n",
    "Para sumar toda las filas de un data frame:"
   ]
  },
  {
   "cell_type": "code",
   "execution_count": 69,
   "metadata": {},
   "outputs": [
    {
     "data": {
      "text/html": [
       "<div>\n",
       "<style scoped>\n",
       "    .dataframe tbody tr th:only-of-type {\n",
       "        vertical-align: middle;\n",
       "    }\n",
       "\n",
       "    .dataframe tbody tr th {\n",
       "        vertical-align: top;\n",
       "    }\n",
       "\n",
       "    .dataframe thead th {\n",
       "        text-align: right;\n",
       "    }\n",
       "</style>\n",
       "<table border=\"1\" class=\"dataframe\">\n",
       "  <thead>\n",
       "    <tr style=\"text-align: right;\">\n",
       "      <th></th>\n",
       "      <th>x1</th>\n",
       "      <th>y1</th>\n",
       "    </tr>\n",
       "  </thead>\n",
       "  <tbody>\n",
       "    <tr>\n",
       "      <th>0</th>\n",
       "      <td>1</td>\n",
       "      <td>1</td>\n",
       "    </tr>\n",
       "    <tr>\n",
       "      <th>1</th>\n",
       "      <td>2</td>\n",
       "      <td>2</td>\n",
       "    </tr>\n",
       "    <tr>\n",
       "      <th>2</th>\n",
       "      <td>3</td>\n",
       "      <td>3</td>\n",
       "    </tr>\n",
       "    <tr>\n",
       "      <th>3</th>\n",
       "      <td>4</td>\n",
       "      <td>4</td>\n",
       "    </tr>\n",
       "    <tr>\n",
       "      <th>4</th>\n",
       "      <td>5</td>\n",
       "      <td>5</td>\n",
       "    </tr>\n",
       "    <tr>\n",
       "      <th>5</th>\n",
       "      <td>6</td>\n",
       "      <td>6</td>\n",
       "    </tr>\n",
       "    <tr>\n",
       "      <th>6</th>\n",
       "      <td>7</td>\n",
       "      <td>7</td>\n",
       "    </tr>\n",
       "    <tr>\n",
       "      <th>7</th>\n",
       "      <td>8</td>\n",
       "      <td>8</td>\n",
       "    </tr>\n",
       "    <tr>\n",
       "      <th>8</th>\n",
       "      <td>9</td>\n",
       "      <td>9</td>\n",
       "    </tr>\n",
       "    <tr>\n",
       "      <th>9</th>\n",
       "      <td>10</td>\n",
       "      <td>10</td>\n",
       "    </tr>\n",
       "  </tbody>\n",
       "</table>\n",
       "</div>"
      ],
      "text/plain": [
       "   x1  y1\n",
       "0   1   1\n",
       "1   2   2\n",
       "2   3   3\n",
       "3   4   4\n",
       "4   5   5\n",
       "5   6   6\n",
       "6   7   7\n",
       "7   8   8\n",
       "8   9   9\n",
       "9  10  10"
      ]
     },
     "execution_count": 69,
     "metadata": {},
     "output_type": "execute_result"
    }
   ],
   "source": [
    "df = pd.DataFrame({'x1': range(1, 11), 'y1': range(1, 11)})\n",
    "df"
   ]
  },
  {
   "cell_type": "code",
   "execution_count": 70,
   "metadata": {},
   "outputs": [
    {
     "data": {
      "text/plain": [
       "0     2\n",
       "1     4\n",
       "2     6\n",
       "3     8\n",
       "4    10\n",
       "5    12\n",
       "6    14\n",
       "7    16\n",
       "8    18\n",
       "9    20\n",
       "dtype: int64"
      ]
     },
     "execution_count": 70,
     "metadata": {},
     "output_type": "execute_result"
    }
   ],
   "source": [
    "df.sum(axis=1)"
   ]
  },
  {
   "cell_type": "code",
   "execution_count": 71,
   "metadata": {},
   "outputs": [
    {
     "data": {
      "text/plain": [
       "5    12\n",
       "6    14\n",
       "7    16\n",
       "8    18\n",
       "9    20\n",
       "dtype: int64"
      ]
     },
     "execution_count": 71,
     "metadata": {},
     "output_type": "execute_result"
    }
   ],
   "source": [
    "# suma las filas cuyo x1 es mayor a 5\n",
    "df[df['x1'] > 5].sum(axis=1)"
   ]
  },
  {
   "cell_type": "markdown",
   "metadata": {},
   "source": [
    "Para sumar las columnas de un data frame:"
   ]
  },
  {
   "cell_type": "code",
   "execution_count": 72,
   "metadata": {},
   "outputs": [
    {
     "data": {
      "text/plain": [
       "x1    55\n",
       "y1    55\n",
       "dtype: int64"
      ]
     },
     "execution_count": 72,
     "metadata": {},
     "output_type": "execute_result"
    }
   ],
   "source": [
    "df.sum(axis=0)"
   ]
  }
 ],
 "metadata": {
  "kernelspec": {
   "display_name": "Python 3",
   "language": "python",
   "name": "python3"
  },
  "language_info": {
   "codemirror_mode": {
    "name": "ipython",
    "version": 3
   },
   "file_extension": ".py",
   "mimetype": "text/x-python",
   "name": "python",
   "nbconvert_exporter": "python",
   "pygments_lexer": "ipython3",
   "version": "3.11.4"
  }
 },
 "nbformat": 4,
 "nbformat_minor": 2
}
